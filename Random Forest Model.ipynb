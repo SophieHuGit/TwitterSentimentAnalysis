{
 "cells": [
  {
   "cell_type": "markdown",
   "metadata": {},
   "source": [
    "## Random Forest Model"
   ]
  },
  {
   "cell_type": "code",
   "execution_count": 1,
   "metadata": {},
   "outputs": [],
   "source": [
    "import numpy as np\n",
    "import pandas as pd\n",
    "from termcolor import colored\n",
    "from sklearn.ensemble import RandomForestClassifier\n",
    "from sklearn.metrics import accuracy_score\n",
    "from sklearn.feature_extraction.text import TfidfVectorizer"
   ]
  },
  {
   "cell_type": "code",
   "execution_count": 2,
   "metadata": {},
   "outputs": [
    {
     "name": "stdout",
     "output_type": "stream",
     "text": [
      "\u001b[33mData loaded\u001b[0m\n"
     ]
    }
   ],
   "source": [
    "# Load data\n",
    "train_data = pd.read_csv('clean_train.csv')\n",
    "test_data = pd.read_csv('clean_test.csv')\n",
    "print(colored(\"Data loaded\", \"yellow\"))"
   ]
  },
  {
   "cell_type": "code",
   "execution_count": 3,
   "metadata": {},
   "outputs": [
    {
     "name": "stdout",
     "output_type": "stream",
     "text": [
      "\u001b[33mApplying TF-IDF transformation\u001b[0m\n"
     ]
    }
   ],
   "source": [
    "# Tf-IDF\n",
    "print(colored(\"Applying TF-IDF transformation\", \"yellow\"))\n",
    "tfidfVectorizer = TfidfVectorizer(min_df = 5, max_features = 1000)\n",
    "tfidfVectorizer.fit(train_data['Clean_tweet'].apply(lambda x: np.str_(x)))\n",
    "\n",
    "train_tweet_vector = tfidfVectorizer.transform(train_data['Clean_tweet'].apply(lambda x: np.str_(x)))\n",
    "test_tweet_vector = tfidfVectorizer.transform(test_data['Clean_tweet'].apply(lambda x: np.str_(x)))"
   ]
  },
  {
   "cell_type": "markdown",
   "metadata": {},
   "source": [
    "### Training data"
   ]
  },
  {
   "cell_type": "code",
   "execution_count": 4,
   "metadata": {},
   "outputs": [
    {
     "name": "stdout",
     "output_type": "stream",
     "text": [
      "\u001b[33mTraining Random Forest Classifier\u001b[0m\n"
     ]
    },
    {
     "name": "stderr",
     "output_type": "stream",
     "text": [
      "//anaconda3/lib/python3.7/site-packages/sklearn/ensemble/forest.py:245: FutureWarning: The default value of n_estimators will change from 10 in version 0.20 to 100 in 0.22.\n",
      "  \"10 in version 0.20 to 100 in 0.22.\", FutureWarning)\n"
     ]
    },
    {
     "data": {
      "text/plain": [
       "RandomForestClassifier(bootstrap=True, class_weight=None, criterion='gini',\n",
       "                       max_depth=None, max_features='auto', max_leaf_nodes=None,\n",
       "                       min_impurity_decrease=0.0, min_impurity_split=None,\n",
       "                       min_samples_leaf=1, min_samples_split=2,\n",
       "                       min_weight_fraction_leaf=0.0, n_estimators=10,\n",
       "                       n_jobs=None, oob_score=False, random_state=None,\n",
       "                       verbose=0, warm_start=False)"
      ]
     },
     "execution_count": 4,
     "metadata": {},
     "output_type": "execute_result"
    }
   ],
   "source": [
    "print(colored(\"Training Random Forest Classifier\", \"yellow\"))\n",
    "randomForestClassifier = RandomForestClassifier()\n",
    "randomForestClassifier.fit(train_tweet_vector, train_data['Sentiment'])"
   ]
  },
  {
   "cell_type": "markdown",
   "metadata": {},
   "source": [
    "### Prediction"
   ]
  },
  {
   "cell_type": "code",
   "execution_count": 5,
   "metadata": {},
   "outputs": [
    {
     "name": "stdout",
     "output_type": "stream",
     "text": [
      "\u001b[33mPredicting on train data\u001b[0m\n",
      "\u001b[32mTraining accuracy: 94.45476562500001%\u001b[0m\n"
     ]
    }
   ],
   "source": [
    "print(colored(\"Predicting on train data\", \"yellow\"))\n",
    "prediction = randomForestClassifier.predict(train_tweet_vector)\n",
    "print(colored(\"Training accuracy: {}%\".format(accuracy_score(train_data['Sentiment'], prediction)*100), \"green\"))"
   ]
  },
  {
   "cell_type": "code",
   "execution_count": 6,
   "metadata": {},
   "outputs": [
    {
     "name": "stdout",
     "output_type": "stream",
     "text": [
      "\u001b[33mPredicting on test data\u001b[0m\n",
      "\u001b[32mTesting accuracy: 74.4859375%\u001b[0m\n"
     ]
    }
   ],
   "source": [
    "print(colored(\"Predicting on test data\", \"yellow\"))\n",
    "prediction = randomForestClassifier.predict(test_tweet_vector)\n",
    "print(colored(\"Testing accuracy: {}%\".format(accuracy_score(test_data['Sentiment'], prediction)*100), \"green\"))"
   ]
  },
  {
   "cell_type": "code",
   "execution_count": null,
   "metadata": {},
   "outputs": [],
   "source": []
  }
 ],
 "metadata": {
  "kernelspec": {
   "display_name": "Python 3",
   "language": "python",
   "name": "python3"
  },
  "language_info": {
   "codemirror_mode": {
    "name": "ipython",
    "version": 3
   },
   "file_extension": ".py",
   "mimetype": "text/x-python",
   "name": "python",
   "nbconvert_exporter": "python",
   "pygments_lexer": "ipython3",
   "version": "3.7.3"
  }
 },
 "nbformat": 4,
 "nbformat_minor": 2
}
