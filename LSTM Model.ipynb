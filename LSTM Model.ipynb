{
 "cells": [
  {
   "cell_type": "markdown",
   "metadata": {},
   "source": [
    "## LSTM Model"
   ]
  },
  {
   "cell_type": "code",
   "execution_count": 4,
   "metadata": {},
   "outputs": [
    {
     "name": "stderr",
     "output_type": "stream",
     "text": [
      "Using TensorFlow backend.\n"
     ]
    }
   ],
   "source": [
    "import os\n",
    "import tensorflow\n",
    "os.environ['KERAS_BACKEND'] = 'tensorflow'\n",
    "\n",
    "import keras\n",
    "from keras.models import Sequential\n",
    "from keras.layers import Dense, Embedding, LSTM, SpatialDropout1D\n",
    "from keras.preprocessing.text import Tokenizer\n",
    "from keras.preprocessing.sequence import pad_sequences\n",
    "\n",
    "import pandas as pd\n",
    "from termcolor import colored"
   ]
  },
  {
   "cell_type": "code",
   "execution_count": 6,
   "metadata": {},
   "outputs": [],
   "source": [
    "# Load cleaned data\n",
    "train_data = pd.read_csv('clean_train.csv')\n",
    "test_data = pd.read_csv('clean_test.csv')"
   ]
  },
  {
   "cell_type": "markdown",
   "metadata": {},
   "source": [
    "### Tokenization"
   ]
  },
  {
   "cell_type": "code",
   "execution_count": 7,
   "metadata": {},
   "outputs": [
    {
     "name": "stdout",
     "output_type": "stream",
     "text": [
      "\u001b[33mTokenizing and padding data\u001b[0m\n",
      "\u001b[33mTokenizing and padding complete\u001b[0m\n"
     ]
    }
   ],
   "source": [
    "print(colored(\"Tokenizing and padding data\", \"yellow\"))\n",
    "tokenizer = Tokenizer(num_words = 2000, split = ' ')\n",
    "tokenizer.fit_on_texts(train_data['Clean_tweet'].astype(str).values)\n",
    "train_tweets = tokenizer.texts_to_sequences(train_data['Clean_tweet'].astype(str).values)\n",
    "\n",
    "max_len = max([len(i) for i in train_tweets])\n",
    "train_tweets = pad_sequences(train_tweets, maxlen = max_len)\n",
    "test_tweets = tokenizer.texts_to_sequences(test_data['Clean_tweet'].astype(str).values)\n",
    "test_tweets = pad_sequences(test_tweets, maxlen = max_len)\n",
    "print(colored(\"Tokenizing and padding complete\", \"yellow\"))"
   ]
  },
  {
   "cell_type": "markdown",
   "metadata": {},
   "source": [
    "### Build LSTM Model"
   ]
  },
  {
   "cell_type": "code",
   "execution_count": 8,
   "metadata": {},
   "outputs": [
    {
     "name": "stdout",
     "output_type": "stream",
     "text": [
      "\u001b[33mCreating the LSTM model\u001b[0m\n",
      "Model: \"sequential_1\"\n",
      "_________________________________________________________________\n",
      "Layer (type)                 Output Shape              Param #   \n",
      "=================================================================\n",
      "embedding_1 (Embedding)      (None, 40, 128)           256000    \n",
      "_________________________________________________________________\n",
      "spatial_dropout1d_1 (Spatial (None, 40, 128)           0         \n",
      "_________________________________________________________________\n",
      "lstm_1 (LSTM)                (None, 256)               394240    \n",
      "_________________________________________________________________\n",
      "dense_1 (Dense)              (None, 2)                 514       \n",
      "=================================================================\n",
      "Total params: 650,754\n",
      "Trainable params: 650,754\n",
      "Non-trainable params: 0\n",
      "_________________________________________________________________\n"
     ]
    }
   ],
   "source": [
    "print(colored(\"Creating the LSTM model\", \"yellow\"))\n",
    "model = Sequential()\n",
    "model.add(Embedding(2000, 128, input_length = train_tweets.shape[1]))\n",
    "model.add(SpatialDropout1D(0.4))\n",
    "model.add(LSTM(256, dropout = 0.2))\n",
    "model.add(Dense(2, activation = 'softmax'))\n",
    "model.compile(loss = 'categorical_crossentropy', optimizer = 'adam', metrics = ['accuracy'])\n",
    "model.summary()"
   ]
  },
  {
   "cell_type": "markdown",
   "metadata": {},
   "source": [
    "### Train the Model"
   ]
  },
  {
   "cell_type": "code",
   "execution_count": 9,
   "metadata": {},
   "outputs": [
    {
     "name": "stdout",
     "output_type": "stream",
     "text": [
      "\u001b[32mTraining the LSTM model\u001b[0m\n"
     ]
    },
    {
     "name": "stderr",
     "output_type": "stream",
     "text": [
      "//anaconda3/lib/python3.7/site-packages/tensorflow_core/python/framework/indexed_slices.py:433: UserWarning: Converting sparse IndexedSlices to a dense Tensor of unknown shape. This may consume a large amount of memory.\n",
      "  \"Converting sparse IndexedSlices to a dense Tensor of unknown shape. \"\n"
     ]
    },
    {
     "name": "stdout",
     "output_type": "stream",
     "text": [
      "Train on 1024000 samples, validate on 256000 samples\n",
      "Epoch 1/10\n",
      "1024000/1024000 [==============================] - 4460s 4ms/step - loss: 0.4801 - accuracy: 0.7677 - val_loss: 0.4625 - val_accuracy: 0.7785\n",
      "Epoch 2/10\n",
      "1024000/1024000 [==============================] - 3674s 4ms/step - loss: 0.4617 - accuracy: 0.7791 - val_loss: 0.4576 - val_accuracy: 0.7811\n",
      "Epoch 3/10\n",
      "1024000/1024000 [==============================] - 3063s 3ms/step - loss: 0.4553 - accuracy: 0.7829 - val_loss: 0.4536 - val_accuracy: 0.7835\n",
      "Epoch 4/10\n",
      "1024000/1024000 [==============================] - 3251s 3ms/step - loss: 0.4507 - accuracy: 0.7857 - val_loss: 0.4522 - val_accuracy: 0.7843\n",
      "Epoch 5/10\n",
      "1024000/1024000 [==============================] - 3224s 3ms/step - loss: 0.4466 - accuracy: 0.7880 - val_loss: 0.4493 - val_accuracy: 0.7861\n",
      "Epoch 6/10\n",
      "1024000/1024000 [==============================] - 3201s 3ms/step - loss: 0.4428 - accuracy: 0.7901 - val_loss: 0.4480 - val_accuracy: 0.7872\n",
      "Epoch 7/10\n",
      "1024000/1024000 [==============================] - 3250s 3ms/step - loss: 0.4398 - accuracy: 0.7920 - val_loss: 0.4482 - val_accuracy: 0.7870\n",
      "Epoch 8/10\n",
      "1024000/1024000 [==============================] - 3177s 3ms/step - loss: 0.4365 - accuracy: 0.7933 - val_loss: 0.4503 - val_accuracy: 0.7876\n",
      "Epoch 9/10\n",
      "1024000/1024000 [==============================] - 8388s 8ms/step - loss: 0.4344 - accuracy: 0.7945 - val_loss: 0.4483 - val_accuracy: 0.7867\n",
      "Epoch 10/10\n",
      "1024000/1024000 [==============================] - 3139s 3ms/step - loss: 0.4321 - accuracy: 0.7960 - val_loss: 0.4488 - val_accuracy: 0.7868\n",
      "\u001b[32m<keras.callbacks.callbacks.History object at 0x14642ffd0>\u001b[0m\n"
     ]
    }
   ],
   "source": [
    "print(colored(\"Training the LSTM model\", \"green\"))\n",
    "history = model.fit(train_tweets, \n",
    "                    pd.get_dummies(train_data['Sentiment']).values, \n",
    "                    epochs = 10, \n",
    "                    batch_size = 128, \n",
    "                    validation_split = 0.2)\n",
    "print(colored(history, \"green\"))"
   ]
  },
  {
   "cell_type": "markdown",
   "metadata": {},
   "source": [
    "### Test the Model\n"
   ]
  },
  {
   "cell_type": "code",
   "execution_count": 10,
   "metadata": {},
   "outputs": [
    {
     "name": "stdout",
     "output_type": "stream",
     "text": [
      "\u001b[32mTesting the LSTM model\u001b[0m\n",
      "320000/320000 [==============================] - 270s 845us/step\n",
      "Test accuracy: 0.7872593998908997\n"
     ]
    }
   ],
   "source": [
    "print(colored(\"Testing the LSTM model\", \"green\"))\n",
    "score, accuracy = model.evaluate(test_tweets, \n",
    "                                 pd.get_dummies(test_data['Sentiment']).values, \n",
    "                                 batch_size = 128)\n",
    "print(\"Test accuracy: {}\".format(accuracy))"
   ]
  },
  {
   "cell_type": "code",
   "execution_count": null,
   "metadata": {},
   "outputs": [],
   "source": []
  }
 ],
 "metadata": {
  "kernelspec": {
   "display_name": "Python 3",
   "language": "python",
   "name": "python3"
  },
  "language_info": {
   "codemirror_mode": {
    "name": "ipython",
    "version": 3
   },
   "file_extension": ".py",
   "mimetype": "text/x-python",
   "name": "python",
   "nbconvert_exporter": "python",
   "pygments_lexer": "ipython3",
   "version": "3.7.3"
  }
 },
 "nbformat": 4,
 "nbformat_minor": 2
}
